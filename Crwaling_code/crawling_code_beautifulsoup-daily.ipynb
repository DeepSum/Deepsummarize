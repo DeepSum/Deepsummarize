{
 "cells": [
  {
   "cell_type": "code",
   "execution_count": 1,
   "metadata": {},
   "outputs": [],
   "source": [
    "import requests\n",
    "import pandas as pd\n",
    "from bs4 import BeautifulSoup\n",
    "from newspaper import Article\n",
    "import time\n",
    "import random\n",
    "import os\n",
    "from newspaper import Config"
   ]
  },
  {
   "cell_type": "code",
   "execution_count": 2,
   "metadata": {},
   "outputs": [],
   "source": [
    "def make_urllist_sub(index, date, page):\n",
    "    sub_urllist = []\n",
    "#     user_agent = 'Mozilla/5.0 (X11; Linux x86_64) AppleWebKit/537.36 (KHTML, like Gecko) Chrome/54.0.2840.90 Safari/537.36'\n",
    "#     config = Config()\n",
    "#     config.browser_user_agent = user_agent\n",
    "#     config.request_timeout = 10\n",
    "    url = 'https://news.naver.com/main/list.nhn?mode=LSD&mid=sec&sid1='+str(index)+'&date='+str(date)+'&page='+str(page)\n",
    "    headers = {'User-Agent': 'Mozilla/5.0 (X11; Linux x86_64) AppleWebKit/537.36 (KHTML, like Gecko) Chrome/54.0.2840.90 Safari/537.36'}\n",
    "    news = requests.get(url, headers=headers)\n",
    "    soup = BeautifulSoup(news.content, 'html.parser')\n",
    "    news_list = soup.select('.newsflash_body .type06_headline li dl')\n",
    "    news_list.extend(soup.select('.newsflash_body .type06 li dl'))\n",
    "    for line in news_list:\n",
    "        sub_urllist.append(line.a.get('href'))\n",
    "    return sub_urllist"
   ]
  },
  {
   "cell_type": "code",
   "execution_count": 3,
   "metadata": {},
   "outputs": [],
   "source": [
    "def make_urllist(index, date):\n",
    "    total_url_list = []\n",
    "    temp_url = []\n",
    "    for page in range(1, 1000):\n",
    "        url_list = make_urllist_sub(index, date, page)\n",
    "        if url_list[-1] == temp_url:\n",
    "            break\n",
    "        temp_url = url_list[-1]\n",
    "        total_url_list.extend(url_list)\n",
    "    return total_url_list"
   ]
  },
  {
   "cell_type": "code",
   "execution_count": 4,
   "metadata": {},
   "outputs": [],
   "source": [
    "def make_data(urllist, index, date):\n",
    "    title_list = []\n",
    "    text_list = []\n",
    "    item_list = []\n",
    "    for url in urllist:\n",
    "        temp_sen = url.split('=')\n",
    "        item_list.append(temp_sen[-1])\n",
    "        article = Article(url, language='ko')\n",
    "        article.download()\n",
    "        article.parse()\n",
    "        title_list.append(article.title)\n",
    "        text_list.append(article.text)\n",
    "    df = pd.DataFrame({'title': title_list, 'permalink': urllist, 'item_id': item_list, 'contents': text_list, 'section_id': index, 'datetime':date})\n",
    "    return df"
   ]
  },
  {
   "cell_type": "code",
   "execution_count": 6,
   "metadata": {},
   "outputs": [],
   "source": [
    "def make_day_data(index, date):\n",
    "    t = time.time()\n",
    "    url_list = make_urllist(index, date)\n",
    "    df = make_data(url_list, index, date)\n",
    "    print(time.time()-t)\n",
    "    time.sleep(random.uniform(5, 10))\n",
    "    return df.to_csv(str(date) + '.csv')"
   ]
  },
  {
   "cell_type": "code",
   "execution_count": 7,
   "metadata": {},
   "outputs": [],
   "source": [
    "def start(index, startday):\n",
    "    for date in range(startday, startday + 31, 1): #31 부분만 수정하고 돌리시면 됩니다.\n",
    "        make_day_data(index, date)\n",
    "        time.sleep(random.uniform(5, 10))"
   ]
  },
  {
   "cell_type": "markdown",
   "metadata": {},
   "source": [
    "## index\n",
    "\n",
    "### 100 : 정치\n",
    "### 101 : 경제\n",
    "### 102 : 사회\n",
    "### 103 : 생활/문화\n",
    "### 104 : 세계\n",
    "### 105 : IT/과학\n",
    "### 110 : 오피니\n",
    "\n",
    "# 파라미터는 index와 startday만 변경해주시면 됩니다.\n",
    "# 더 필요하시면 make_total_data의 주석을 참고해주세요"
   ]
  },
  {
   "cell_type": "code",
   "execution_count": 8,
   "metadata": {},
   "outputs": [],
   "source": [
    "index = 100 #인덱스 설정은 개인별로 바꾸시길 바랍니다."
   ]
  },
  {
   "cell_type": "code",
   "execution_count": 9,
   "metadata": {},
   "outputs": [],
   "source": [
    "startday = 20201001 # 작업 시작일입니다."
   ]
  },
  {
   "cell_type": "code",
   "execution_count": null,
   "metadata": {},
   "outputs": [],
   "source": [
    "start(index, startday)"
   ]
  },
  {
   "cell_type": "code",
   "execution_count": null,
   "metadata": {},
   "outputs": [],
   "source": []
  },
  {
   "cell_type": "code",
   "execution_count": null,
   "metadata": {},
   "outputs": [],
   "source": []
  }
 ],
 "metadata": {
  "kernelspec": {
   "display_name": "aiffel",
   "language": "python",
   "name": "aiffel"
  },
  "language_info": {
   "codemirror_mode": {
    "name": "ipython",
    "version": 3
   },
   "file_extension": ".py",
   "mimetype": "text/x-python",
   "name": "python",
   "nbconvert_exporter": "python",
   "pygments_lexer": "ipython3",
   "version": "3.7.9"
  }
 },
 "nbformat": 4,
 "nbformat_minor": 4
}
