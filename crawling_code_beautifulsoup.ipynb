{
 "cells": [
  {
   "cell_type": "code",
   "execution_count": 1,
   "metadata": {},
   "outputs": [],
   "source": [
    "import requests\n",
    "import pandas as pd\n",
    "from bs4 import BeautifulSoup\n",
    "from newspaper import Article\n",
    "import time\n",
    "import random"
   ]
  },
  {
   "cell_type": "code",
   "execution_count": 2,
   "metadata": {},
   "outputs": [],
   "source": [
    "def make_urllist_sub(index, date, page):\n",
    "    sub_urllist = []\n",
    "    url = 'https://news.naver.com/main/list.nhn?mode=LSD&mid=sec&sid1='+str(index)+'&date='+str(date)+'&page='+str(page)\n",
    "    headers = {'User-Agent': 'Mozilla/5.0 (X11; Linux x86_64) AppleWebKit/537.36 (KHTML, like Gecko) Chrome/54.0.2840.90 Safari/537.36'}\n",
    "    news = requests.get(url, headers=headers)\n",
    "    soup = BeautifulSoup(news.content, 'html.parser')\n",
    "    news_list = soup.select('.newsflash_body .type06_headline li dl')\n",
    "    news_list.extend(soup.select('.newsflash_body .type06 li dl'))\n",
    "    for line in news_list:\n",
    "        sub_urllist.append(line.a.get('href'))\n",
    "    return sub_urllist"
   ]
  },
  {
   "cell_type": "code",
   "execution_count": 3,
   "metadata": {},
   "outputs": [],
   "source": [
    "def make_urllist(index, date):\n",
    "    total_url_list = []\n",
    "    temp_url = []\n",
    "    for page in range(1, 1000):\n",
    "        url_list = make_urllist_sub(index, date, page)\n",
    "        if url_list[-1] == temp_url:\n",
    "            break\n",
    "        temp_url = url_list[-1]\n",
    "        total_url_list.extend(url_list)\n",
    "    return total_url_list"
   ]
  },
  {
   "cell_type": "code",
   "execution_count": 4,
   "metadata": {},
   "outputs": [],
   "source": [
    "def make_data(urllist):\n",
    "    text_list = []\n",
    "    for url in urllist:\n",
    "        article = Article(url, language='ko')\n",
    "        article.download()\n",
    "        article.parse()\n",
    "        text_list.append(article.text)\n",
    "    df = pd.DataFrame({'contents': text_list})\n",
    "    return df"
   ]
  },
  {
   "cell_type": "code",
   "execution_count": 5,
   "metadata": {},
   "outputs": [],
   "source": [
    "def make_total_data(index, date):\n",
    "    df = None\n",
    "    temp_url = []\n",
    "    for date in range(date, date+7): # 기본 설정은 1주일치로 되어있습니다.\n",
    "        url_list = make_urllist(index, date)\n",
    "        if temp_url == url_list[-1]:\n",
    "            break\n",
    "        temp_url = url_list[-1]\n",
    "        df_temp = make_data(url_list)\n",
    "        if df is not None:\n",
    "            df = pd.concat([df, df_temp])\n",
    "        else:\n",
    "            df = df_temp\n",
    "        df.to_csv(str(date) + '.csv') # 1일치가 끝날때마다 '해당 날짜.csv'로 저장됩니다.\n",
    "        time.sleep(random.uniform(5, 10)) # 1일치가 끝나면 5초에서 10초동안 쉬도록 설정되어있습니다.\n",
    "    df.to_csv(str(date) + '-' + str(date+7) + '.csv') #1주일치가 끝나면 '첫날-마지막날.csv'로 저장됩니다.\n",
    "    return df"
   ]
  },
  {
   "cell_type": "code",
   "execution_count": 6,
   "metadata": {},
   "outputs": [],
   "source": [
    "index = 100 #인덱스 설정은 개인별로 바꾸시길 바랍니다."
   ]
  },
  {
   "cell_type": "markdown",
   "metadata": {},
   "source": [
    "## index\n",
    "\n",
    "### 100 : 정치\n",
    "### 101 : 경제\n",
    "### 102 : 사회\n",
    "### 103 : 생활/문화\n",
    "### 104 : 세계\n",
    "### 105 : IT/과학\n",
    "### 110 : 오피니"
   ]
  },
  {
   "cell_type": "code",
   "execution_count": 7,
   "metadata": {},
   "outputs": [],
   "source": [
    "startday = 20200506 #2020년 05월 06일"
   ]
  },
  {
   "cell_type": "code",
   "execution_count": null,
   "metadata": {},
   "outputs": [],
   "source": [
    "df = make_total_data(index, startday)\n",
    "df"
   ]
  },
  {
   "cell_type": "code",
   "execution_count": null,
   "metadata": {},
   "outputs": [],
   "source": []
  }
 ],
 "metadata": {
  "kernelspec": {
   "display_name": "aiffel",
   "language": "python",
   "name": "aiffel"
  },
  "language_info": {
   "codemirror_mode": {
    "name": "ipython",
    "version": 3
   },
   "file_extension": ".py",
   "mimetype": "text/x-python",
   "name": "python",
   "nbconvert_exporter": "python",
   "pygments_lexer": "ipython3",
   "version": "3.7.7"
  }
 },
 "nbformat": 4,
 "nbformat_minor": 4
}
