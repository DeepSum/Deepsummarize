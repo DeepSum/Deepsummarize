{
 "cells": [
  {
   "cell_type": "markdown",
   "metadata": {},
   "source": [
    "# 뉴스 데이터 전처리 하기"
   ]
  },
  {
   "cell_type": "code",
   "execution_count": 11,
   "metadata": {},
   "outputs": [],
   "source": [
    "import numpy as np\n",
    "import matplotlib.pyplot as plt\n",
    "import pandas as pd\n",
    "\n",
    "import re\n",
    "import os\n",
    "import io\n",
    "import time\n",
    "import random\n",
    "\n",
    "import glob"
   ]
  },
  {
   "cell_type": "code",
   "execution_count": 12,
   "metadata": {},
   "outputs": [
    {
     "name": "stdout",
     "output_type": "stream",
     "text": [
      "(111539, 7)\n"
     ]
    }
   ],
   "source": [
    "path1 = os.getenv('HOME') + '/aiffel/Deep_Sum/104/8' # 자신에 맞는 폴더 집어넣기\n",
    "\n",
    "filenames1 = glob.glob(path1 + \"/*.csv\")\n",
    "\n",
    "\n",
    "dfs = []\n",
    "for filename in filenames1:\n",
    "    dfs.append(pd.read_csv(filename))\n",
    "\n",
    "\n",
    "data = pd.concat(dfs, ignore_index=True)\n",
    "print(data.shape)"
   ]
  },
  {
   "cell_type": "code",
   "execution_count": 13,
   "metadata": {},
   "outputs": [],
   "source": [
    "data = data.drop_duplicates(['contents'], ignore_index = True)"
   ]
  },
  {
   "cell_type": "code",
   "execution_count": 14,
   "metadata": {
    "scrolled": true
   },
   "outputs": [
    {
     "name": "stdout",
     "output_type": "stream",
     "text": [
      "0    [올댓차이나] 인민은행, 알리바바·텅쉰 결제서비스 독금법 조사 요청\n",
      "1           BRITAIN FORMULA ONE GRAND PRIX\n",
      "2       폼페이오 \"트럼프, 중국 소프트웨어 기업에 며칠내 조치할 것\"\n",
      "3        이스라엘, 反네타냐후 주말 시위 격화…역대 최대 규모(종합)\n",
      "4         미국, 틱톡 금지 예고에 반발…\"트럼프 싫어\" 비난 쏟아져\n",
      "Name: title, dtype: object\n",
      "0    중국 인터넷 결제서비스 알리페이 위챗페이 중국 인터넷 결제서비스 알리페이 위챗페이\\...\n",
      "1    기사 섹션 분류 안내\\n\\n기사의 섹션 정보는 해당 언론사의 분류를 따르고 있습니다...\n",
      "2    틱톡 애플리케이션(앱)\\n\\n[EPA=연합뉴스 자료사진] 틱톡 애플리케이션(앱)[E...\n",
      "3    [예루살렘=- AP/뉴시스] 네타냐후 총리의 총리 공관앞에 1일(현지시간) 모인 이...\n",
      "4    [한국경제TV 이영호 기자]\\n\\n도널드 트럼프 대통령이 중국 소셜미디어 애플리케이...\n",
      "Name: contents, dtype: object\n",
      "32935\n"
     ]
    }
   ],
   "source": [
    "text = data['contents']\n",
    "title = data['title']\n",
    "print(title.head())\n",
    "print(text.head())\n",
    "print(len(text))"
   ]
  },
  {
   "cell_type": "code",
   "execution_count": 15,
   "metadata": {},
   "outputs": [
    {
     "data": {
      "text/plain": [
       "'(도쿄 AP=연합뉴스) 1일 일본 도쿄의 상점가가 행인들로 붐비고 있다. (도쿄 AP=연합뉴스) 1일 일본 도쿄의 상점가가 행인들로 붐비고 있다.\\n\\n(도쿄=연합뉴스) 이세원 특파원 = 2일 일본의 신종 코로나바이러스 감염증(코로나19) 확진자는 오후 10시 30분 현재 1천331명이 새로 확인됐다고 현지 공영방송 NHK가 보도했다.이로써 일본의 누적 확진자는 3만9천968명으로 늘었다.일본의 하루 신규 확진자는 5일 연속 1천명을 웃돌았다.지난달 29일에는 1천264명이었고 30일 1천301명, 31일 1천580명, 이달 1일 1천536명을 기록했다.확진자가 가장 많은 수도 도쿄도는 2일 292명이 새로 확진돼 누적 확진자 1만3천455명이 됐다.sewonlee@yna.co.kr'"
      ]
     },
     "execution_count": 15,
     "metadata": {},
     "output_type": "execute_result"
    }
   ],
   "source": [
    "text[17]"
   ]
  },
  {
   "cell_type": "code",
   "execution_count": 16,
   "metadata": {},
   "outputs": [],
   "source": [
    "cleaned_text = []\n",
    "for t in text:\n",
    "    \n",
    "    # 해당 패턴에 해당하는 부분 삭제\n",
    "    pattern = '[\\r|\\n|\\n\\n]'\n",
    "    a = re.sub(pattern = pattern, repl= ' ', string = a)\n",
    "    \n",
    "    # 이메일 삭제\n",
    "    a = re.sub('[a-zA-Z0-9_-]+@\\S+.+[a-zA-Z0-9]', '', a)\n",
    "    #a = re.sub('[a-zA-Z0-9_-]+@[a-z]+.+[a-z]+.+[a-z]', '', a)\n",
    "    #a = re.sub('[a-zA-Z0-9_-]+@[a-z]+.[a-z]', '', a)\n",
    "    #a = re.sub('[a-z]+.[a-z]', '', a)\n",
    "    \n",
    "    # 날짜 삭제\n",
    "    # 필요시 만들기\n",
    "    \n",
    "    \n",
    "    # 마침표 뒤에 띄어쓰기\n",
    "    #a = re.sub('\\.', '. ', a) #숫자의 소수점으로 쓰이는 경우도 있기 때문에 토크나이저에게 맡김 \n",
    "    \n",
    "    # 두칸 이상의 띄어쓰기 제거\n",
    "    a = re.sub('  ', ' ', a)\n",
    "    a = re.sub('  ', ' ', a)\n",
    "    a = re.sub('  ', ' ', a)\n",
    "    \n",
    "    # 양 옆에 공백제거 \n",
    "    a = a.strip()\n",
    "    \n",
    "    \n",
    "    \n",
    "    \n",
    "    cleaned_text.append(a)"
   ]
  },
  {
   "cell_type": "code",
   "execution_count": 17,
   "metadata": {
    "scrolled": false
   },
   "outputs": [
    {
     "data": {
      "text/plain": [
       "'신종 코로나바이러스 감염증 예방 마스크를 쓴 사람들이 2일 일본 도쿄의 중심가를 걷고 있다. 일본에서는 코로나19 누적 확진자수가 급증하고 있어 통제가 불가능한 수준까지 치달을 수 있다는 우려가 커지고 있다. 도쿄에서는 이날도 290여명의 신규 확진자가 발생했다. 2020.08.02 AP 연합뉴스 신종 코로나바이러스 감염증 예방 마스크를 쓴 사람들이 2일 일본 도쿄의 중심가를 걷고 있다. 일본에서는 코로나19 누적 확진자수가 급증하고 있어 통제가 불가능한 수준까지 치달을 수 있다는 우려가 커지고 있다. 도쿄에서는 이날도 290여명의 신규 확진자가 발생했다. 2020.08.02 AP 연합뉴스 2일 일본의 신종 코로나바이러스 감염증 확진자는 오후 10시 30분 기준으로 1331명으로 집계됐다고 NHK가 보도했다. 이로써 일본의 누적 확진자는 3만 9968명에 이르렀다.최근 일본의 일일 신규 확진자는 5일 연속 1000명을 웃돌았다. 지난달 29일에는 1264명이었고 30일 1301명, 31일 1580명, 이달 1일 1536명을 기록했다.확진자가 가장 많은 수도 도쿄도는 2일 292명이 새로 확진돼 누적 확진자 1만3천455명이 됐다.곽혜진 기자 ⓒ 서울신문, 무단전재 및 재배포금지'"
      ]
     },
     "execution_count": 17,
     "metadata": {},
     "output_type": "execute_result"
    }
   ],
   "source": [
    "cleaned_text[10]"
   ]
  },
  {
   "cell_type": "code",
   "execution_count": 18,
   "metadata": {},
   "outputs": [],
   "source": [
    "with open('text_104.txt', 'w') as f:\n",
    "    for text in cleaned_text:\n",
    "        f.writelines('{}\\n'.format(text))\n",
    "title.to_csv('title_104.txt', index = False, header = None, sep ='\\t')"
   ]
  },
  {
   "cell_type": "code",
   "execution_count": 19,
   "metadata": {},
   "outputs": [
    {
     "name": "stdout",
     "output_type": "stream",
     "text": [
      "\"미국, 틱톡 금지 예고에 반발…\"\"트럼프 싫어\"\" 비난 쏟아져\"\n",
      "도널드 트럼프 대통령이 중국 소셜미디어 애플리케이션 틱톡의 미국 내 사용금지 방침을 공언하자 당황스러워하는 이용자들의 반응이 속출하고 있다.1일 CNN 방송에 따르면 트럼프 대통령이 전날 미국 내 틱톡 사용을 막을 것이라고 언급한 뒤 틱톡에는 당혹한 이용자들의 반응이 잇따라 쏟아졌다.2만5천명의 팔로워를 보유한 한 이용자는 틱톡 라이브방송을 통해 \"모두가 기겁하고 있다. 만약 현실화하면 인스타그램에서 나를 팔로우해달라\"고 했다.틱톡에 12만명의 팔로워가 있는 에마 토비는 \"틱톡을 계속 할 수 있으면 좋겠다\"면서도 팔로워들에게 자신의 다른 소셜미디어 계정을 알려줬다.트럼프 대통령에 대한 비판도 이어지고 있다고 미 정치전문매체 더힐은 전했다.틱톡에 3천만명이 넘는 팔로워를 보유한 19세 가수 베이비 애리얼은 \"트럼프가 싫다\"고 썼다.1천만명 이상의 팔로워가 있는 래리 메리트는 \"트럼프가 흑인의 생명보다 틱톡 금지에 더 관심 있다니 흥미롭다\"고 비꼬았다.미국시민자유연합도 이날 \"틱톡처럼 수많은 미국인이 소통을 위해 이용하는 앱을 금지하는 것은 표현의 자유에 위험을 가져오는 것이며 기술적으로 비현실적인 일\"이라고 비판했다.CNN에 따르면 미국 내 틱톡 이용자는 1억 명에 달하고 상당수는 10대다. 유튜브나 인스타그램 등 다른 소셜미디어에서와 마찬가지로 많은 이용자가 몇 달 혹은 몇 년씩 틱톡에서 활동하며 유명세를 얻고 돈을 벌고 있다.특히 틱톡 같은 앱은 신종 코로나바이러스 감염증 확산으로 한동안 집에 감금되다시피 한 많은 미국인에게 소통 창구 역할을 톡톡히 하기도 했다.일부 이용자들은 틱톡 사용이 가능한 나라에서 접속하는 것처럼 우회로를 찾을 방법도 궁리하고 있다고 CNN은 전했다.트럼프 대통령은 전날 취재진에 미국에서 이르면 이날부터 틱톡의 사용을 막을 것이라고 밝혔다. 트럼프 행정부는 중국 기업이 중국 공산당과 연계됐다며 안보 우려를 제기해왔다.이영호기자 , 무단 전재 및 재배포 금지\n"
     ]
    }
   ],
   "source": [
    "title_path = os.getenv('HOME') + '/aiffel/Deep_Sum/title_104.txt'\n",
    "text_path = os.getenv('HOME') + '/aiffel/Deep_Sum/text_104.txt'\n",
    "\n",
    "with open(title_path, 'r' ) as f:\n",
    "    title= f.read().splitlines()\n",
    "    \n",
    "print(title[4])\n",
    "\n",
    "with open(text_path, 'r') as f:\n",
    "    text = f.read().splitlines()\n",
    "\n",
    "\n",
    "print(text[4])"
   ]
  },
  {
   "cell_type": "code",
   "execution_count": 20,
   "metadata": {},
   "outputs": [
    {
     "name": "stdout",
     "output_type": "stream",
     "text": [
      "32935\n",
      "32935\n",
      "<class 'str'>\n",
      "<class 'str'>\n"
     ]
    }
   ],
   "source": [
    "print(len(text))\n",
    "print(len(title))\n",
    "print(type(text[0]))\n",
    "print(type(title[0]))"
   ]
  },
  {
   "cell_type": "code",
   "execution_count": null,
   "metadata": {},
   "outputs": [],
   "source": []
  },
  {
   "cell_type": "code",
   "execution_count": null,
   "metadata": {},
   "outputs": [],
   "source": []
  },
  {
   "cell_type": "code",
   "execution_count": null,
   "metadata": {},
   "outputs": [],
   "source": []
  }
 ],
 "metadata": {
  "kernelspec": {
   "display_name": "aiffel",
   "language": "python",
   "name": "aiffel"
  },
  "language_info": {
   "codemirror_mode": {
    "name": "ipython",
    "version": 3
   },
   "file_extension": ".py",
   "mimetype": "text/x-python",
   "name": "python",
   "nbconvert_exporter": "python",
   "pygments_lexer": "ipython3",
   "version": "3.7.7"
  }
 },
 "nbformat": 4,
 "nbformat_minor": 4
}
