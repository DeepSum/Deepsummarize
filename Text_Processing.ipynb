{
 "cells": [
  {
   "cell_type": "markdown",
   "metadata": {},
   "source": [
    "# 뉴스 데이터 전처리 하기"
   ]
  },
  {
   "cell_type": "code",
   "execution_count": 1,
   "metadata": {},
   "outputs": [],
   "source": [
    "import numpy as np\n",
    "import matplotlib.pyplot as plt\n",
    "import pandas as pd\n",
    "\n",
    "import re\n",
    "import os\n",
    "import io\n",
    "import time\n",
    "import random\n",
    "\n",
    "import glob"
   ]
  },
  {
   "cell_type": "code",
   "execution_count": 2,
   "metadata": {},
   "outputs": [
    {
     "name": "stdout",
     "output_type": "stream",
     "text": [
      "(111539, 7)\n"
     ]
    }
   ],
   "source": [
    "path1 = os.getenv('HOME') + '/aiffel/Deep_Sum/104/8' # 자신에 맞는 폴더 집어넣기\n",
    "\n",
    "filenames1 = glob.glob(path1 + \"/*.csv\")\n",
    "\n",
    "\n",
    "dfs = []\n",
    "for filename in filenames1:\n",
    "    dfs.append(pd.read_csv(filename))\n",
    "\n",
    "\n",
    "data = pd.concat(dfs, ignore_index=True)\n",
    "print(data.shape)"
   ]
  },
  {
   "cell_type": "code",
   "execution_count": 3,
   "metadata": {},
   "outputs": [],
   "source": [
    "data = data.drop_duplicates(['contents'], ignore_index = True)"
   ]
  },
  {
   "cell_type": "code",
   "execution_count": 4,
   "metadata": {
    "scrolled": true
   },
   "outputs": [
    {
     "name": "stdout",
     "output_type": "stream",
     "text": [
      "0                                   SPAIN WEATHER\n",
      "1                      유엔기구 \"레바논 인구의 55% 이상 빈곤상태\"\n",
      "2    [미 민주 전대] 질 바이든 \"해리스 강한여성, 맹렬·터프…남편 강한여성 존경\"\n",
      "3                WTO \"내년 세계무역 전망, V자형보다 L자형이 현실적\"\n",
      "4               질 바이든, 트럼프 '바이든 치매' 공격에 \"어처구니 없어\"\n",
      "Name: title, dtype: object\n",
      "0    기사 섹션 분류 안내\\n\\n기사의 섹션 정보는 해당 언론사의 분류를 따르고 있습니다...\n",
      "1    8월 10일(현지시간) 레바논 수도 베이루트에서 벌어진 반정부 시위[AFP=연합뉴스...\n",
      "2    미국 민주당 전당대회에서 찬조연설한 질 바이든 여사와 대통령후보 조 바이든 전 부통...\n",
      "3    6월 상품교역지수\\n\\n[사진=WTO 제공. 재판매 및 DB 금지] 6월 상품교역지...\n",
      "4    [ AP/뉴시스] 조 바이든(왼쪽) 전 미국 부통령이 18일(현지시간) 화상으로 진...\n",
      "Name: contents, dtype: object\n",
      "32935\n"
     ]
    }
   ],
   "source": [
    "text = data['contents']\n",
    "title = data['title']\n",
    "print(title.head())\n",
    "print(text.head())\n",
    "print(len(text))"
   ]
  },
  {
   "cell_type": "code",
   "execution_count": 5,
   "metadata": {},
   "outputs": [
    {
     "data": {
      "text/plain": [
       "'[브뤼셀=AP/뉴시스]우르줄라 폰데어라이엔 유럽연합(EU) 집행위원장. [브뤼셀=AP/뉴시스]우르줄라 폰데어라이엔 유럽연합(EU) 집행위원장.\\n\\n[런던=뉴시스] 이지예 기자 = 유럽연합(EU)은 19일(현지시간) 부정선거 의혹이 불거진 벨라루스의 대선 결과를 인정할 수 없다고 밝혔다. 또 반정부 시위 폭력 진압에 관여한 벨라루스 관료들에 제재를 부과하기로 했다.도이체벨레, 유로뉴스 등에 따르면 우르줄라 폰데어라이엔 EU 집행위원장은 이날 벨라루스 시위 사태에 관한 EU의 긴급 화상 정상회의를 진행한 뒤 이 같이 밝혔다.폰데어라이엔 위원장은 \"벨라루스인들은 지금 바로 변화를 원한다\"며 \"그들은 민주주의와 새 대선을 원한다. 선거는 공정하지도 자유롭지도 않았다\"고 말했다.샤를 미셸 EU 정상회의 상임의장은 EU가 벨라루스 부정선거와 폭력 사태에 책임이 있는 인물 여러 명에 대해 조만간 제재를 부과할 방침이라고 밝혔다.앙겔라 메르켈 독일 총리, 마르크 뤼터 네덜란드 총리 등도 EU가 벨라루스 대선 결과를 받아들이지 않기로 했다고 전했다.벨라루스에서는 지난 9일 대선 이후 알렉산드르 루카셴코 벨라루스 대통령의 6연임에 반대하는 대규모 시위가 일고 있다. 루카셴코는 1994년부터 장기 집권 중이다.벨라루스 야권과 EU는 부정 선거가 이뤄졌다고 비판했다. 이번 대선의 야권 후보였던 스베틀라나 티하놉스카야는 유럽국들이 벨라루스 선거 결과를 인정해선 안 된다고 거듭 촉구했다.그러나 루카셴코 대통령은 시위 배후에 서구 세력이 있다는 의혹을 제기했다. 그는 서방이 벨라루스 내정에 간섭하지 말고 자신들 문제를 해결하는 데 집중해야 한다고 비난했다.세르게이 라브로프 러시아 외무장관은 외세가 혼란을 틈타 벨라루스 내정에 개입하고 있다고 주장했다. 옛 소련 국가인 벨라루스는 러시아와 밀접한 관계다.러시아는 앞서 필요한 경우 벨라루스에 군사적 지원을 하겠다고 밝혔다. 그러나 크렘린(러시아 대통령궁)은 19일 현재로선 지원이 필요해 보이지 않는다며 이번 사태를 벨라루스인들 스스로 해결해야 한다고 강조했다. ☞공감언론 뉴시스 ez@newsis.com'"
      ]
     },
     "execution_count": 5,
     "metadata": {},
     "output_type": "execute_result"
    }
   ],
   "source": [
    "text[14]"
   ]
  },
  {
   "cell_type": "code",
   "execution_count": 6,
   "metadata": {},
   "outputs": [],
   "source": [
    "cleaned_text = []\n",
    "for t in text:\n",
    "    \n",
    "    # [~~]의 양 옆에 띄어쓰기를 추가\n",
    "    a = re.sub(r'\\[', '&& [',t)\n",
    "    a = re.sub(r'\\]', '] &&',a)\n",
    "    a = re.sub(r'&&', '', a )\n",
    "    \n",
    "    # (~~)의 양 옆에 띄어쓰기를 추가\n",
    "    a = re.sub(r'\\(', '&& (',t)\n",
    "    a = re.sub(r'\\)', ') &&',a)\n",
    "    a = re.sub(r'&&', '', a )\n",
    "    \n",
    "    # <~~>의 양옆에 띄어쓰기를 추가\n",
    "    a = re.sub(r'\\<', '&& <',t)\n",
    "    a = re.sub(r'\\>', '> &&',a)\n",
    "    a = re.sub(r'&&', '', a )\n",
    "    \n",
    "    # (~~)부분 삭제\n",
    "    a = re.sub(r'\\([^)]*\\)', '', a )\n",
    "    \n",
    "    # [~~]부분 삭제\n",
    "    a = re.sub(r'\\[[^)]*\\]', '', a )\n",
    "    \n",
    "    # <~~>부분 삭제\n",
    "    \n",
    "    a = re.sub(r'\\<[^)]*\\>', '', a )\n",
    "    \n",
    "    # 해당 패턴에 해당하는 부분 삭제\n",
    "    pattern = '[\\r|\\n|\\n\\n]'\n",
    "    a = re.sub(pattern = pattern, repl= ' ', string = a)\n",
    "    \n",
    "    # 이메일 삭제\n",
    "    a = re.sub('[a-zA-Z0-9_-]+@\\S+.+[a-zA-Z0-9]', '', a)\n",
    "    \n",
    "    \n",
    "    \n",
    "    cleaned_text.append(a)"
   ]
  },
  {
   "cell_type": "code",
   "execution_count": 7,
   "metadata": {
    "scrolled": false
   },
   "outputs": [
    {
     "data": {
      "text/plain": [
       "' 이지예 기자 = 유럽연합은 19일 부정선거 의혹이 불거진 벨라루스의 대선 결과를 인정할 수 없다고 밝혔다. 또 반정부 시위 폭력 진압에 관여한 벨라루스 관료들에 제재를 부과하기로 했다.도이체벨레, 유로뉴스 등에 따르면 우르줄라 폰데어라이엔 EU 집행위원장은 이날 벨라루스 시위 사태에 관한 EU의 긴급 화상 정상회의를 진행한 뒤 이 같이 밝혔다.폰데어라이엔 위원장은 \"벨라루스인들은 지금 바로 변화를 원한다\"며 \"그들은 민주주의와 새 대선을 원한다. 선거는 공정하지도 자유롭지도 않았다\"고 말했다.샤를 미셸 EU 정상회의 상임의장은 EU가 벨라루스 부정선거와 폭력 사태에 책임이 있는 인물 여러 명에 대해 조만간 제재를 부과할 방침이라고 밝혔다.앙겔라 메르켈 독일 총리, 마르크 뤼터 네덜란드 총리 등도 EU가 벨라루스 대선 결과를 받아들이지 않기로 했다고 전했다.벨라루스에서는 지난 9일 대선 이후 알렉산드르 루카셴코 벨라루스 대통령의 6연임에 반대하는 대규모 시위가 일고 있다. 루카셴코는 1994년부터 장기 집권 중이다.벨라루스 야권과 EU는 부정 선거가 이뤄졌다고 비판했다. 이번 대선의 야권 후보였던 스베틀라나 티하놉스카야는 유럽국들이 벨라루스 선거 결과를 인정해선 안 된다고 거듭 촉구했다.그러나 루카셴코 대통령은 시위 배후에 서구 세력이 있다는 의혹을 제기했다. 그는 서방이 벨라루스 내정에 간섭하지 말고 자신들 문제를 해결하는 데 집중해야 한다고 비난했다.세르게이 라브로프 러시아 외무장관은 외세가 혼란을 틈타 벨라루스 내정에 개입하고 있다고 주장했다. 옛 소련 국가인 벨라루스는 러시아와 밀접한 관계다.러시아는 앞서 필요한 경우 벨라루스에 군사적 지원을 하겠다고 밝혔다. 그러나 크렘린은 19일 현재로선 지원이 필요해 보이지 않는다며 이번 사태를 벨라루스인들 스스로 해결해야 한다고 강조했다. ☞공감언론 뉴시스 '"
      ]
     },
     "execution_count": 7,
     "metadata": {},
     "output_type": "execute_result"
    }
   ],
   "source": [
    "cleaned_text[14]"
   ]
  },
  {
   "cell_type": "code",
   "execution_count": 8,
   "metadata": {},
   "outputs": [],
   "source": [
    "with open('text_104.txt', 'w') as f:\n",
    "    for text in cleaned_text:\n",
    "        f.writelines('{}\\n'.format(text))\n",
    "title.to_csv('title_104.txt', index = False, header = None, sep ='\\t')"
   ]
  },
  {
   "cell_type": "code",
   "execution_count": 9,
   "metadata": {},
   "outputs": [
    {
     "name": "stdout",
     "output_type": "stream",
     "text": [
      "\"질 바이든, 트럼프 '바이든 치매' 공격에 \"\"어처구니 없어\"\"\"\n",
      " 신정원 기자 = 조 바이든 미국 민주당 대선 후보 아내 질 바이든 여사는 19일 남편에 대한 도널드 트럼프 대통령의 '치매' 공격에 대해 \"어처구니 없다\"고 응수했다.바이든 여사는 이날 NBC '투데이 쇼'와의 인터뷰에서 트럼프 대통령이 바이든 후보에 대해 '인지 능력 검사를 받아야 한다'고 공격하는 것이 정당하냐는 진행자의 질문에 \"아니다. 어처구니 없다\"며 \"조는 그와 통화하길 원하는 주지사들이나 낸시 펠로시 하원의장과 매분 매초 전화통화를 하고 있다\"고 답했다.이어 \"그는 주목받고 있으며 기금 모금도 하고 브리핑도 한다\"면서 \"오전 9시부터 오후 11시까지 멈추지 않는다. 알다시피,  말도 안 된다\"고 강조했다.트럼프 대통령 재선 캠프는 77세인 바이든 후보가 인지 능력 검사를 받아야 한다고 공격해 왔다. 18일엔 이를 소재로 한 '바이든에게 무슨 일이 있었나' 제목의 광고를 내보내기도 했다.더힐에 따르면 지난달 몬머스대 여론조사에선 응답자의 52%가 바이든 후보가 정신적, 육체적으로 미 대통령직을 수행할 수 있다고 믿는다고 답했다. 트럼프 대통령에 대해선 45%만 같은 의견을 냈다. 트럼프 대통령은 바이든 후보보다 3살 아래인 74세다.바이든 후보는 18일 민주당 화상 전당대회에서 민주당 대통령 후보로 공식 선출됐다. 그는 오는 11월 대선에서 승리하면 최고령 미 대통령 당선자가 된다. ☞공감언론 뉴시스 \n"
     ]
    }
   ],
   "source": [
    "title_path = os.getenv('HOME') + '/aiffel/Deep_Sum/title_104.txt'\n",
    "text_path = os.getenv('HOME') + '/aiffel/Deep_Sum/text_104.txt'\n",
    "\n",
    "with open(title_path, 'r' ) as f:\n",
    "    title= f.read().splitlines()\n",
    "    \n",
    "print(title[4])\n",
    "\n",
    "with open(text_path, 'r') as f:\n",
    "    text = f.read().splitlines()\n",
    "\n",
    "\n",
    "print(text[4])"
   ]
  },
  {
   "cell_type": "code",
   "execution_count": 10,
   "metadata": {},
   "outputs": [
    {
     "name": "stdout",
     "output_type": "stream",
     "text": [
      "32935\n",
      "32935\n",
      "<class 'str'>\n",
      "<class 'str'>\n"
     ]
    }
   ],
   "source": [
    "print(len(text))\n",
    "print(len(title))\n",
    "print(type(text[0]))\n",
    "print(type(title[0]))"
   ]
  },
  {
   "cell_type": "code",
   "execution_count": null,
   "metadata": {},
   "outputs": [],
   "source": []
  },
  {
   "cell_type": "code",
   "execution_count": null,
   "metadata": {},
   "outputs": [],
   "source": []
  },
  {
   "cell_type": "code",
   "execution_count": null,
   "metadata": {},
   "outputs": [],
   "source": []
  }
 ],
 "metadata": {
  "kernelspec": {
   "display_name": "aiffel",
   "language": "python",
   "name": "aiffel"
  },
  "language_info": {
   "codemirror_mode": {
    "name": "ipython",
    "version": 3
   },
   "file_extension": ".py",
   "mimetype": "text/x-python",
   "name": "python",
   "nbconvert_exporter": "python",
   "pygments_lexer": "ipython3",
   "version": "3.7.7"
  }
 },
 "nbformat": 4,
 "nbformat_minor": 4
}
